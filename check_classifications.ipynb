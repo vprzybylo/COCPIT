{
 "cells": [
  {
   "cell_type": "code",
   "execution_count": null,
   "metadata": {},
   "outputs": [],
   "source": [
    "import cocpit.pic as pic\n",
    "import cocpit\n",
    "import pandas as pd\n",
    "import matplotlib.pyplot as plt\n",
    "import os\n",
    "import cv2\n",
    "from collections import defaultdict\n",
    "%load_ext autoreload\n",
    "%autoreload 2"
   ]
  },
  {
   "cell_type": "code",
   "execution_count": null,
   "metadata": {},
   "outputs": [],
   "source": [
    "campaign='ATTREX'\n",
    "df = pd.read_csv('final_databases_v3/no_mask/'+campaign+'.csv')\n",
    "desired_size = 1000\n",
    "for file, class_ in zip(df['filename'], df['classification']):\n",
    "    #print(file)\n",
    "    image = cocpit.pic.Image('cpi_data/campaigns/'+campaign+'/single_imgs/', file)\n",
    "    image.resize_stretch(desired_size)\n",
    "    print(class_)\n",
    "    if class_ != 'blurry':\n",
    "        plt.imshow(image.image_og)\n",
    "        plt.show()\n"
   ]
  },
  {
   "cell_type": "code",
   "execution_count": null,
   "metadata": {},
   "outputs": [],
   "source": [
    "#flip images for training\n",
    "open_dir='cpi_data/training_datasets/rimed_agg/'\n",
    "save_dir='cpi_data/training_datasets/rimed_agg_flip/'\n",
    "for file in os.listdir(open_dir):\n",
    "    image = cocpit.pic.Image(open_dir, file)\n",
    "    image.save_image(save_dir, flip=True)"
   ]
  },
  {
   "cell_type": "code",
   "execution_count": null,
   "metadata": {},
   "outputs": [],
   "source": []
  }
 ],
 "metadata": {
  "kernelspec": {
   "display_name": "Python 3",
   "language": "python",
   "name": "python3"
  },
  "language_info": {
   "codemirror_mode": {
    "name": "ipython",
    "version": 3
   },
   "file_extension": ".py",
   "mimetype": "text/x-python",
   "name": "python",
   "nbconvert_exporter": "python",
   "pygments_lexer": "ipython3",
   "version": "3.7.10"
  }
 },
 "nbformat": 4,
 "nbformat_minor": 4
}
