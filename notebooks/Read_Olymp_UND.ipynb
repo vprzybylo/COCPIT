{
 "cells": [
  {
   "cell_type": "code",
   "execution_count": null,
   "metadata": {},
   "outputs": [],
   "source": [
    "import numpy as np\n",
    "import gzip\n",
    "import matplotlib.pyplot as plt\n",
    "import datetime"
   ]
  },
  {
   "cell_type": "code",
   "execution_count": null,
   "metadata": {},
   "outputs": [],
   "source": [
    "params = {'axes.labelsize': 'x-large',\n",
    "         'axes.titlesize':'x-large',\n",
    "         'xtick.labelsize':'large',\n",
    "         'ytick.labelsize':'large'}\n",
    "plt.rcParams.update(params)"
   ]
  },
  {
   "cell_type": "code",
   "execution_count": null,
   "metadata": {},
   "outputs": [],
   "source": [
    "class UND:\n",
    "    \n",
    "    def __init__(self, filename):\n",
    "        self.filename = filename\n",
    "\n",
    "    def ReadFile(self):\n",
    "        \n",
    "        # Underscored variables are private to the class.\n",
    "        try:\n",
    "            # Open the input file for reading.\n",
    "            # Use the gzip module to read in compressed files.\n",
    "            if '.gz' in self.filename:\n",
    "                fhand = gzip.open(self.filename, 'r')\n",
    "            else:  \n",
    "                fhand = open(self.filename, 'r')\n",
    "        except:\n",
    "            print ('ERROR (readfile.py): Cannot read ASCII file: '+self.filename+', please make sure the file is properly formatted.')\n",
    "\n",
    "\n",
    "        # Need skiprows to read the right section of the file.\n",
    "        skiprows  = int(fhand.readline().split()[0])\n",
    "\n",
    "        # Move file pointer to top of file and grab all header information\n",
    "        # for parsing.\n",
    "        fhand.seek(0)\n",
    "        header = [fhand.readline() for lines in range(skiprows)]\n",
    "\n",
    "        # Parse the header information.\n",
    "        # All new-line characters are stripped from strings.\n",
    "        self.NLHEAD = skiprows\n",
    "        self.FFI    = int(header[0].split()[1])\n",
    "        self.ONAME  = header[1].rstrip()\n",
    "        self.ORG    = header[2].rstrip()\n",
    "        self.SNAME  = header[3].rstrip()\n",
    "        self.MNAME  = header[4].rstrip()\n",
    "        self.IVOL   = int(header[5].split()[0])\n",
    "        self.VVOL   = int(header[5].split()[1])\n",
    "        self.DATE   = header[6][:10]\n",
    "        self.RDATE  = header[6][11:].rstrip()\n",
    "        self.DX     = float(header[7])\n",
    "        self.XNAME  = header[8].rstrip()\n",
    "        self.NV     = int(header[9])\n",
    "        self.VSCAL  = header[10].split()\n",
    "        self.VMISS  = header[11].split()\n",
    "        self.VNAME  = [header[12+i].rstrip() for i in range(self.NV)]\n",
    "        self.NSCOML = int(header[self.NV+12])\n",
    "        self.NNCOML = int(header[self.NV+13])\n",
    "        self.DTYPE  = header[self.NV+14].rstrip()\n",
    "        self.VFREQ  = header[self.NV+15].rstrip()\n",
    "\n",
    "        self.VDESC  = header[self.NV+16].split()\n",
    "        self.VUNITS = header[self.NV+17].split()\n",
    "\n",
    "        # Read data values from file.\n",
    "        _data = np.loadtxt(fhand, dtype='float', \\\n",
    "                           skiprows=self.NLHEAD).T\n",
    "        print(self.VDESC)\n",
    "        \n",
    "        \n",
    "\n",
    "        # Store data in dictionary.\n",
    "        # Use \"object_name.data['Time']\" syntax to access data.\n",
    "        self.data = dict(zip(self.VDESC, _data))\n",
    "        \n",
    "        # Close input file.\n",
    "        fhand.close()\n",
    "        \n",
    "    def find_times(self):\n",
    "\n",
    "        # Find starting and ending times of the file and calculate the total\n",
    "        # file duration.\n",
    "        _strt = self.data[self.VDESC[0]][0]\n",
    "        _endt = self.data[self.VDESC[0]][-1]\n",
    "        self.start_time = self.sfm2hms(_strt)\n",
    "        self.end_time   = self.sfm2hms(_endt)     \n",
    "        \n",
    "        self.time_hms = []\n",
    "        for time_s in self.data['Time']:     \n",
    "            self.time_hms.append(self.sfm2hms(time_s))\n",
    "\n",
    "        \n",
    "    def sfm2hms(self, time_s):     \n",
    "        return str(datetime.timedelta(seconds=round(time_s)))\n",
    "    \n"
   ]
  },
  {
   "cell_type": "code",
   "execution_count": null,
   "metadata": {},
   "outputs": [],
   "source": [
    "obj_file = UND(filename='ADPAA/UND_citation/OLYMPEX/15_11_12_18_49_13.olympex')\n",
    "#obj_file = UND(filename='ADPAA/UND_citation/MC3E/2011_04_25_09_07_51_v2.mc3e')"
   ]
  },
  {
   "cell_type": "code",
   "execution_count": null,
   "metadata": {},
   "outputs": [],
   "source": [
    "obj_file.ReadFile()\n",
    "#obj_file.data['Time'].min(), obj_file.data['Time'].max()"
   ]
  },
  {
   "cell_type": "code",
   "execution_count": null,
   "metadata": {},
   "outputs": [],
   "source": [
    "obj_file.find_times()\n",
    "print(obj_file.start_time)\n",
    "print(obj_file.end_time)"
   ]
  },
  {
   "cell_type": "code",
   "execution_count": null,
   "metadata": {},
   "outputs": [],
   "source": [
    "plt.plot(obj_file.data['Time'], obj_file.data['Air_Temp'])"
   ]
  },
  {
   "cell_type": "code",
   "execution_count": null,
   "metadata": {},
   "outputs": [],
   "source": [
    "time_hms = []\n",
    "for time in obj_file.data['Time']:\n",
    "    time_hms.append(str(datetime.timedelta(seconds=round(time))))"
   ]
  },
  {
   "cell_type": "code",
   "execution_count": null,
   "metadata": {},
   "outputs": [],
   "source": [
    "fig, ax1 = plt.subplots(figsize=(15,7))\n",
    "ax1.plot(time_hms, obj_file.data['REL_HUM'], 'darkblue')\n",
    "ax1.xaxis.set_ticks(time_hms[0::1000])\n",
    "#ax1.set_ylim(0, 90200)\n",
    "ax1.set_xlabel(\"Time of flight [hh:mm:ss]\")\n",
    "ax1.set_ylabel(\"Relative Humidity from the EG&G probe [%]\", c='darkblue')\n",
    "\n",
    "ax2 = ax1.twinx()  # instantiate a second axes that shares the same x-axis\n",
    "ax2.plot(time_hms, obj_file.data['Air_Temp'], 'r')\n",
    "ax2.xaxis.set_ticks(time_hms[0::1000])\n",
    "ax2.set_ylabel('Temperature [C]', color='r')\n",
    "ax2.set_ylim(10, -60)\n",
    "ax2.axhline(y=0, color='k', linestyle='--')\n",
    "fig.savefig('ADPAA/plots/olympex_temp_rel_hum.png')\n",
    "plt.show()"
   ]
  },
  {
   "cell_type": "code",
   "execution_count": null,
   "metadata": {},
   "outputs": [],
   "source": [
    "plt.plot(obj_file.data['Time'], obj_file.data['CDP_LWC'])"
   ]
  },
  {
   "cell_type": "code",
   "execution_count": null,
   "metadata": {},
   "outputs": [],
   "source": [
    "plt.plot(obj_file.data['Time'], obj_file.data['2-DC_EffRad']) #microns"
   ]
  },
  {
   "cell_type": "code",
   "execution_count": null,
   "metadata": {},
   "outputs": [],
   "source": [
    "print(obj_file.VNAME)"
   ]
  },
  {
   "cell_type": "code",
   "execution_count": null,
   "metadata": {},
   "outputs": [],
   "source": [
    "time_hms = []\n",
    "for time_s in obj_file.data['Time']:     \n",
    "    time_hms.append(str(datetime.timedelta(seconds=round(time_s))))\n",
    "time_hms[-10:]"
   ]
  },
  {
   "cell_type": "code",
   "execution_count": null,
   "metadata": {},
   "outputs": [],
   "source": [
    "obj_file.find_times()\n",
    "obj_file.time_hms\n",
    "\n",
    "514479_1124-194701_681.png"
   ]
  },
  {
   "cell_type": "code",
   "execution_count": null,
   "metadata": {},
   "outputs": [],
   "source": []
  }
 ],
 "metadata": {
  "kernelspec": {
   "display_name": "Python 3",
   "language": "python",
   "name": "python3"
  },
  "language_info": {
   "codemirror_mode": {
    "name": "ipython",
    "version": 3
   },
   "file_extension": ".py",
   "mimetype": "text/x-python",
   "name": "python",
   "nbconvert_exporter": "python",
   "pygments_lexer": "ipython3",
   "version": "3.6.8"
  }
 },
 "nbformat": 4,
 "nbformat_minor": 4
}
