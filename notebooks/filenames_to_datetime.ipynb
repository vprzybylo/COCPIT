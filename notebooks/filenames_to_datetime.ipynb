{
 "cells": [
  {
   "cell_type": "code",
   "execution_count": 1,
   "metadata": {},
   "outputs": [
    {
     "ename": "ModuleNotFoundError",
     "evalue": "No module named 'pandas'",
     "output_type": "error",
     "traceback": [
      "\u001b[0;31m---------------------------------------------------------------------------\u001b[0m",
      "\u001b[0;31mModuleNotFoundError\u001b[0m                       Traceback (most recent call last)",
      "\u001b[0;32m<ipython-input-1-916bda990335>\u001b[0m in \u001b[0;36m<module>\u001b[0;34m\u001b[0m\n\u001b[1;32m      1\u001b[0m \u001b[0;32mimport\u001b[0m \u001b[0mdatetime\u001b[0m\u001b[0;34m\u001b[0m\u001b[0;34m\u001b[0m\u001b[0m\n\u001b[1;32m      2\u001b[0m \u001b[0;32mimport\u001b[0m \u001b[0mglob\u001b[0m\u001b[0;34m\u001b[0m\u001b[0;34m\u001b[0m\u001b[0m\n\u001b[0;32m----> 3\u001b[0;31m \u001b[0;32mimport\u001b[0m \u001b[0mpandas\u001b[0m \u001b[0;32mas\u001b[0m \u001b[0mpd\u001b[0m\u001b[0;34m\u001b[0m\u001b[0;34m\u001b[0m\u001b[0m\n\u001b[0m",
      "\u001b[0;31mModuleNotFoundError\u001b[0m: No module named 'pandas'"
     ]
    }
   ],
   "source": [
    "import datetime\n",
    "import glob\n",
    "import pandas as pd"
   ]
  },
  {
   "cell_type": "code",
   "execution_count": null,
   "metadata": {},
   "outputs": [],
   "source": [
    "df_CPI = pd.read_csv('../final_databases/no_mask/all_campaigns.csv')"
   ]
  },
  {
   "cell_type": "code",
   "execution_count": null,
   "metadata": {},
   "outputs": [],
   "source": [
    "date = df_CPI['filename'].str.split('_')\n",
    "dates=[]\n",
    "campaigns = {'ARM': 2000, 'CRYSTAL_FACE_UND':2002,  'CRYSTAL_FACE_NASA':2002, 'MIDCIX':2004, 'ICE_L':2007,\\\n",
    "        'OLYMPEX':2015, 'MPACE':2004}\n",
    "campaigns = {'CRYSTAL_FACE_NASA':2002}\n",
    "for campaign in campaigns:\n",
    "    year = campaigns[campaign]\n",
    "    if campaign == 'OLYMPEX'and dat[0] == 11 or dat[0] == 12:\n",
    "        year = 2014\n",
    "    if campaign == 'AIRS_II' and dat[0] == 11 or dat[0] == 12:\n",
    "        year = 2003\n",
    "    for dat in date:\n",
    "        dat=str(year)+dat[0]+dat[1]\n",
    "        dates.append(dat)"
   ]
  },
  {
   "cell_type": "code",
   "execution_count": null,
   "metadata": {},
   "outputs": [],
   "source": [
    "df_CPI['date'] = dates\n",
    "df_CPI['date'] = pd.to_datetime(df_CPI['date'], format='%Y%m%d-%H%M%S%f')\n",
    "cols = list(df_CPI)\n",
    "# move the column to head of list using index, pop and insert\n",
    "cols.insert(2, cols.pop(cols.index('date')))\n",
    "cols\n",
    "\n",
    "df_CPI = df_CPI.loc[:, cols]\n",
    "df_CPI"
   ]
  },
  {
   "cell_type": "code",
   "execution_count": null,
   "metadata": {},
   "outputs": [],
   "source": [
    "df_CPI['date'].groupby([df_CPI['date'].dt.month, df_CPI['date'].dt.day]).agg('count')"
   ]
  },
  {
   "cell_type": "code",
   "execution_count": null,
   "metadata": {},
   "outputs": [],
   "source": [
    "df_CPI = df_CPI.sort_values(by=\"date\")"
   ]
  },
  {
   "cell_type": "code",
   "execution_count": null,
   "metadata": {},
   "outputs": [],
   "source": [
    "g =df_CPI['date'].groupby([(df_CPI['date'].dt.day)])\n",
    "df_CPI['date'].head()"
   ]
  },
  {
   "cell_type": "code",
   "execution_count": null,
   "metadata": {},
   "outputs": [],
   "source": [
    "df_CPI.to_csv('final_databases/no_mask/all_campaigns_datesorted.csv', index=False)"
   ]
  }
 ],
 "metadata": {
  "kernelspec": {
   "display_name": "Python 3",
   "language": "python",
   "name": "python3"
  },
  "language_info": {
   "codemirror_mode": {
    "name": "ipython",
    "version": 3
   },
   "file_extension": ".py",
   "mimetype": "text/x-python",
   "name": "python",
   "nbconvert_exporter": "python",
   "pygments_lexer": "ipython3",
   "version": "3.7.7"
  }
 },
 "nbformat": 4,
 "nbformat_minor": 4
}
