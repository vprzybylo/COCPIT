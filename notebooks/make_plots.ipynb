{
 "cells": [
  {
   "cell_type": "code",
   "execution_count": null,
   "metadata": {},
   "outputs": [],
   "source": [
    "import sys\n",
    "sys.path.insert(0,'..')\n",
    "import cocpit\n",
    "import itertools\n",
    "import matplotlib.pyplot as plt\n",
    "import numpy as np\n",
    "import pandas as pd\n",
    "import torch\n",
    "import seaborn as sns\n",
    "from sklearn.metrics import confusion_matrix, classification_report"
   ]
  },
  {
   "cell_type": "code",
   "execution_count": null,
   "metadata": {},
   "outputs": [],
   "source": [
    "plt_params = {'axes.labelsize': 'xx-large',\n",
    "         'axes.titlesize':'xx-large',\n",
    "         'xtick.labelsize':'x-large',\n",
    "         'ytick.labelsize':'x-large',\n",
    "         'legend.title_fontsize': 12}\n",
    "plt.rcParams[\"font.family\"] = \"serif\"\n",
    "plt.rcParams.update(plt_params)"
   ]
  },
  {
   "cell_type": "markdown",
   "metadata": {},
   "source": [
    "# Make Confusion Matrix - Validation"
   ]
  },
  {
   "cell_type": "code",
   "execution_count": null,
   "metadata": {},
   "outputs": [],
   "source": [
    "model = torch.load('/data/data/saved_models/no_mask/e50_bs128_k0_8models_vgg19').cuda()\n",
    "val_data = torch.load('/data/data/saved_models/no_mask/val_data.pt')\n",
    "device = torch.device(\"cuda\" if torch.cuda.is_available() else \"cpu\")\n",
    "class_names = ['aggs','blank','blurry','budding',\n",
    "              'bullets','columns','compact irregulars',\n",
    "              'fragments','needles','plates','rimed aggs',\n",
    "              'rimed columns','spheres']\n",
    "val_loader = torch.utils.data.DataLoader(val_data,\n",
    "                                         batch_size=128,\n",
    "                                         shuffle=True,\n",
    "                                         num_workers=20,\n",
    "                                         pin_memory=True)\n",
    "all_preds= []\n",
    "all_labels = []\n",
    "with torch.no_grad():\n",
    "\n",
    "    for batch_idx, (imgs, labels, img_paths) in enumerate(val_loader):\n",
    "        # get the inputs\n",
    "        inputs = imgs.to(device)\n",
    "        labels = labels.to(device)\n",
    "\n",
    "        output = model(inputs)\n",
    "        pred = torch.argmax(output, 1)\n",
    "\n",
    "        all_preds.append(pred.cpu().numpy())\n",
    "        all_labels.append(labels.cpu().numpy())\n"
   ]
  },
  {
   "cell_type": "code",
   "execution_count": null,
   "metadata": {},
   "outputs": [],
   "source": [
    "#NORMALIZED\n",
    "\n",
    "cm = confusion_matrix(np.asarray(list(itertools.chain(*all_preds))), np.asarray(list(itertools.chain(*all_labels))))\n",
    "cmn = cm.astype('float') / cm.sum(axis=1)[:, np.newaxis]\n",
    "fig, ax = plt.subplots(figsize=(13,9))\n",
    "\n",
    "heat = sns.heatmap(cmn, annot=True, fmt='.2f', xticklabels=class_names, yticklabels=class_names, cmap=\"Blues\")\n",
    "heat.set_xticklabels(heat.get_xticklabels(), rotation=90, fontsize=18)\n",
    "heat.set_yticklabels(heat.get_xticklabels(), rotation=0, fontsize=18)\n",
    "\n",
    "\n",
    "plt.ylabel('Actual Labels', fontsize=20)\n",
    "plt.xlabel('Predicted Labels', fontsize=20);\n",
    "plt.savefig('/data/data/plots/norm_conf_matrix.pdf', dpi=300, bbox_inches='tight')"
   ]
  },
  {
   "cell_type": "code",
   "execution_count": null,
   "metadata": {},
   "outputs": [],
   "source": [
    "cm = confusion_matrix(np.asarray(list(itertools.chain(*all_preds))), np.asarray(list(itertools.chain(*all_labels))))\n",
    "fig, ax = plt.subplots(figsize=(13,9))\n",
    "\n",
    "heat = sns.heatmap(cm, annot=True, fmt='.2f', xticklabels=class_names, yticklabels=class_names, cmap=\"Blues\")\n",
    "heat.set_xticklabels(heat.get_xticklabels(), rotation=90)\n",
    "plt.ylabel('Actual Labels', fontsize=20)\n",
    "plt.xlabel('Predicted Labels', fontsize=20);"
   ]
  },
  {
   "cell_type": "markdown",
   "metadata": {},
   "source": [
    "## classification report"
   ]
  },
  {
   "cell_type": "code",
   "execution_count": null,
   "metadata": {},
   "outputs": [],
   "source": [
    "#Metrics classification report\n",
    "all_labels_flat = [item for items in all_labels for item in items]\n",
    "all_preds_flat = [item for items in all_preds for item in items]\n",
    "\n",
    "classification_report(all_labels_flat, all_preds_flat, digits=3)"
   ]
  },
  {
   "cell_type": "markdown",
   "metadata": {},
   "source": [
    "## read in saved data"
   ]
  },
  {
   "cell_type": "code",
   "execution_count": null,
   "metadata": {},
   "outputs": [],
   "source": [
    "train_csv = '/data/data/saved_models/no_mask/save_train_acc_loss_e50_bs128_k5_9models.csv'\n",
    "df_train = pd.read_csv(train_csv, names=[\"Model\", \"Epoch\", \"Kfold\", \"Accuracy\", \"Loss\"])\n",
    "df_train.head()"
   ]
  },
  {
   "cell_type": "code",
   "execution_count": null,
   "metadata": {},
   "outputs": [],
   "source": [
    "val_csv = '/data/data/saved_models/no_mask/save_val_acc_loss_e50_bs128_k5_9models.csv'\n",
    "df_val = pd.read_csv(val_csv, names=[\"Model\", \"Epoch\", \"Kfold\", \"Accuracy\", \"Loss\"])\n",
    "df_val.head()"
   ]
  },
  {
   "cell_type": "code",
   "execution_count": null,
   "metadata": {},
   "outputs": [],
   "source": [
    "#rename models for plotting\n",
    "model_names = ['efficient', 'resnet18', 'resnet34',\n",
    "               'resnet152', 'alexnet', 'vgg16', 'vgg19',\n",
    "               'densenet169', 'densenet201']\n",
    "new_names = ['Efficient-b0', 'ResNet-18', 'ResNet-34',\n",
    "               'ResNet-152', 'AlexNet', 'VGG-16', 'VGG-19',\n",
    "               'DenseNet-169', 'DenseNet-201']\n",
    "convert_names = {model_names[i]: new_names[i] for i in range(len(new_names))}\n",
    "convert_names"
   ]
  },
  {
   "cell_type": "code",
   "execution_count": null,
   "metadata": {},
   "outputs": [],
   "source": [
    "colors = {'Efficient-b0': 'k', 'ResNet-18': 'lightblue', 'ResNet-34': 'blue', 'ResNet-152': 'darkblue',\n",
    "       'AlexNet': 'gold', 'VGG-16': 'red', 'VGG-19': 'darkred', 'DenseNet-169': 'lightgreen',\n",
    "       'DenseNet-201': 'darkgreen'}\n",
    "# colors = {'efficient': 'k', 'resnet18': '#fdbf6f', 'resnet34': '#ff7f00', 'resnet152': '#e31a1c',\n",
    "#        'alexnet': '#a880bb', 'vgg16': '#b2df8a', 'vgg19': '#33a02c', 'densenet169': '#a6cee3',\n",
    "#        'densenet201': '#1f78b4'}\n",
    "#put in order of increasing time\n",
    "# color_time = {'resnet18': '#fdbf6f', 'alexnet': '#a880bb', 'resnet34': '#ff7f00', \n",
    "#               'efficient': 'k', 'vgg16': '#b2df8a', 'densenet169': '#a6cee3',\n",
    "#               'vgg19': '#33a02c', 'densenet201': '#1f78b4', 'resnet152': '#e31a1c'}\n",
    "color_time = {'resnet18': 'lightblue', 'alexnet': 'gold', 'resnet34': 'blue',\n",
    "             'efficient': 'k', 'vgg16': 'red', 'densenet169': 'lightgreen', 'vgg19': 'darkred', \n",
    "             'densenet201': 'darkgreen', 'resnet152': 'darkblue'}\n",
    "num_epochs = int(val_csv[51:53])\n",
    "kfold = int(val_csv[61:62])\n",
    "num_models = len(model_names)"
   ]
  },
  {
   "cell_type": "code",
   "execution_count": null,
   "metadata": {},
   "outputs": [],
   "source": [
    "#reshape data\n",
    "val_accs = np.average(df_val['Accuracy'].values.reshape(num_models, kfold, num_epochs), axis=1)\n",
    "val_losses = np.average(df_val['Loss'].values.reshape(num_models, kfold, num_epochs), axis=1)\n",
    "train_accs = np.average(df_train['Accuracy'].values.reshape(num_models, kfold, num_epochs), axis=1)\n",
    "train_losses = np.average(df_train['Loss'].values.reshape(num_models, kfold, num_epochs), axis=1)"
   ]
  },
  {
   "cell_type": "markdown",
   "metadata": {},
   "source": [
    "## acc/loss plots"
   ]
  },
  {
   "cell_type": "code",
   "execution_count": null,
   "metadata": {},
   "outputs": [],
   "source": [
    "fig, ((ax1, ax2), (ax3, ax4)) = plt.subplots(2, 2, figsize=(13,8), sharex=True, sharey=True)\n",
    "\n",
    "#colors = ['k', 'lightblue', 'blue', 'darkblue', 'gold', 'red', 'darkred', 'lightgreen', 'darkgreen']\n",
    "\n",
    "#fig = plt.figure(figsize=(20,20))\n",
    "ax1 = plt.subplot(2, 2, 1)\n",
    "\n",
    "for i in range(num_models):\n",
    "    ax1.scatter(np.arange(1,(num_epochs+1)), [i*100 for i in train_accs[i,:]],\n",
    "                c=colors[model_names[i]], marker='o', s=35, label=convert_names[model_names[i]])\n",
    "plt.ylabel(\"Accuracy [%]\")\n",
    "plt.ylim(40,100)\n",
    "plt.xlim(1,num_epochs)\n",
    "ax1.legend(title='Model type:', loc='best', prop={'size': 12}, ncol=2)\n",
    "ax1.axes.xaxis.set_ticks([])\n",
    "ax1.yaxis.set_ticks_position('both')\n",
    "ax1.minorticks_on()\n",
    "ax1.tick_params(axis='y', which='minor', direction='out')\n",
    "#ax1.xaxis.set_tick_params(which='minor', bottom=False)\n",
    "ax1.title.set_text('Training Data')\n",
    "\n",
    "#fig = plt.figure(figsize=(20,5))\n",
    "ax2 = plt.subplot(2, 2, 2)\n",
    "for i in range(num_models):\n",
    "    ax2.scatter(np.arange(1,(num_epochs+1)), [i*100 for i in val_accs[i,:]], c=colors[model_names[i]],\n",
    "                marker='*', s=55, label=convert_names[model_names[i]])\n",
    "plt.ylim(40,100)\n",
    "plt.xlim(1,num_epochs)\n",
    "#ax2.legend(title='Model type:', loc='best', prop={'size': 10})\n",
    "ax2.axes.yaxis.set_ticks([])\n",
    "ax2.axes.xaxis.set_ticks([])\n",
    "ax2.yaxis.set_ticks_position('both')\n",
    "#ax2.minorticks_on()\n",
    "ax2.tick_params(axis='y', which='minor', direction='out')\n",
    "ax2.xaxis.set_tick_params(which='minor', bottom=False)\n",
    "ax2.title.set_text('Validation Data')\n",
    "\n",
    "ax3 = plt.subplot(2, 2, 3)\n",
    "for i in range(num_models):\n",
    "    ax3.scatter(np.arange(1,(num_epochs+1)), [i for i in train_losses[i,:]],\n",
    "                c=colors[model_names[i]], marker='o', s=35, label=convert_names[model_names[i]])\n",
    "plt.xlabel(\"Epochs\")\n",
    "plt.ylabel(\"Loss\")\n",
    "#ax3.legend(title='Model type:', loc='best', prop={'size': 10})\n",
    "plt.ylim(0,2.4)\n",
    "plt.xlim(1,num_epochs)\n",
    "plt.tight_layout()\n",
    "ax3.yaxis.set_ticks_position('both')\n",
    "ax3.minorticks_on()\n",
    "ax3.tick_params(axis='y', which='minor', direction='out')\n",
    "ax3.xaxis.set_tick_params(which='minor', bottom=False)\n",
    "\n",
    "ax4 = plt.subplot(2, 2, 4)\n",
    "for i in range(num_models):\n",
    "    ax4.scatter(np.arange(1,(num_epochs+1)), [i for i in val_losses[i,:]],\n",
    "                c=colors[model_names[i]], marker='*', s=55, label=convert_names[model_names[i]])\n",
    "plt.xlabel(\"Epochs\")\n",
    "#ax4.legend(title='Model type:', loc='best', prop={'size': 10})\n",
    "plt.ylim(0,2.4)\n",
    "plt.xlim(1,num_epochs)\n",
    "ax4.axes.yaxis.set_ticks([])\n",
    "plt.tight_layout()\n",
    "ax4.yaxis.set_ticks_position('both')\n",
    "ax4.minorticks_on()\n",
    "ax4.tick_params(axis='y', which='minor', direction='out')\n",
    "ax4.xaxis.set_tick_params(which='minor', bottom=False)\n",
    "plt.savefig('/data/data/plots/loss_acc_9models_bs128_e50_13classes_avgkfold.pdf')"
   ]
  },
  {
   "cell_type": "markdown",
   "metadata": {},
   "source": [
    "## plot model timing"
   ]
  },
  {
   "cell_type": "code",
   "execution_count": null,
   "metadata": {},
   "outputs": [],
   "source": [
    "time_csv = '/data/data/saved_models/no_mask/model_timing2.csv'\n",
    "df = pd.read_csv(time_csv)\n",
    "df['Model'].astype(str)\n",
    "df['Time'].astype(float)\n",
    "df.replace(convert_names, inplace=True)\n",
    "df = df.sort_values(by=['Time'])"
   ]
  },
  {
   "cell_type": "code",
   "execution_count": null,
   "metadata": {},
   "outputs": [],
   "source": [
    "fig, ax = plt.subplots(1,1,figsize = (10,5))\n",
    "\n",
    "time = df['Time']/60\n",
    "#ax = time.plot(kind='bar')\n",
    "g=sns.barplot(x=\"Model\", y=\"Time\", data=df, ci=None, palette=color_time.values())\n",
    "g.set_xlabel(\"Model\");\n",
    "g.set_ylabel(\"Training Time [minutes]\");\n",
    "g.set_xticklabels(df['Model'], rotation=90, fontsize=14);"
   ]
  },
  {
   "cell_type": "code",
   "execution_count": null,
   "metadata": {},
   "outputs": [],
   "source": [
    "time_csv = '/data/data/saved_models/no_mask/model_timing_samples1.csv'\n",
    "df = pd.read_csv(time_csv, names=[\"Model\", \"Samples\", \"Time\"])\n",
    "df['Model'].astype(str)\n",
    "df['Samples'].astype(int)\n",
    "df['Time'].astype(float)\n",
    "df.replace(convert_names, inplace=True)\n",
    "df = df.set_index('Model')\n",
    "df = df.loc[['ResNet-18', 'AlexNet', 'ResNet-34', 'Efficient-b0', 'VGG-16',\n",
    "       'DenseNet-169', 'VGG-19', 'DenseNet-201', 'ResNet-152']]\n",
    "df.reset_index(inplace=True)"
   ]
  },
  {
   "cell_type": "code",
   "execution_count": null,
   "metadata": {},
   "outputs": [],
   "source": [
    "ax=sns.catplot(data=df, kind=\"bar\", x=\"Model\", y=\"Time\", hue=\"Samples\", legend=True);\n",
    "ax.set_xticklabels(rotation=90, fontsize=14);\n",
    "ax.set(xlabel='Model Name', ylabel='Time [minutes]');"
   ]
  },
  {
   "cell_type": "markdown",
   "metadata": {},
   "source": [
    "## plot cross validation"
   ]
  },
  {
   "cell_type": "code",
   "execution_count": null,
   "metadata": {},
   "outputs": [],
   "source": [
    "val_accs = df_val['Accuracy'].values.reshape(num_models, kfold, num_epochs)\n",
    "val_accs_avg = np.average(df_val['Accuracy'].values.reshape(num_models, kfold, num_epochs), axis=1)"
   ]
  },
  {
   "cell_type": "code",
   "execution_count": null,
   "metadata": {},
   "outputs": [],
   "source": [
    "val_accs_avg = {new_names[i]: val_accs_avg[i,-1] for i in range(len(model_names))} \n",
    "val_accs_avg"
   ]
  },
  {
   "cell_type": "code",
   "execution_count": null,
   "metadata": {},
   "outputs": [],
   "source": [
    "val_accs_avg_sort = dict(sorted(val_accs_avg.items(), key=lambda x: x[1]))\n",
    "val_accs_avg_sort"
   ]
  },
  {
   "cell_type": "code",
   "execution_count": null,
   "metadata": {},
   "outputs": [],
   "source": [
    "from collections import OrderedDict\n",
    "sorted_colors = OrderedDict([(el, colors[el]) for el in val_accs_avg_sort])\n",
    "sorted_colors"
   ]
  },
  {
   "cell_type": "code",
   "execution_count": null,
   "metadata": {},
   "outputs": [],
   "source": [
    "fig, (ax1, ax2) = plt.subplots(2, 1, figsize=(7,7), sharex=True, sharey=True)\n",
    "fig.tight_layout(pad=3.0)\n",
    "#fig = plt.figure(figsize=(20,20))\n",
    "ax1 = plt.subplot(2, 1, 1)\n",
    "\n",
    "for i in range(num_models):\n",
    "    ax1.plot(np.arange(1,(kfold+1)), [i*100 for i in val_accs[i,:,-1]],\n",
    "                c=colors[new_names[i]], marker='o', label=new_names[i])\n",
    "plt.ylabel(\"Accuracy [%]\")\n",
    "plt.xlabel(\"Fold\")\n",
    "plt.ylim(70,100)\n",
    "#plt.xlim(1,num_epochs)\n",
    "#ax1.legend(title='Model type:', loc='best', prop={'size': 12})\n",
    "# Shrink current axis by 20%\n",
    "box = ax1.get_position()\n",
    "ax1.set_position([box.x0, box.y0, box.width * 0.8, box.height])\n",
    "\n",
    "# Put a legend to the right of the current axis\n",
    "ax1.legend(loc='center left', bbox_to_anchor=(1, 0.5), fontsize=14)\n",
    "ax1.axes.xaxis.set_ticks(np.arange(1,6,1))\n",
    "ax1.yaxis.set_ticks_position('both')\n",
    "ax1.minorticks_on()\n",
    "ax1.tick_params(axis='y', which='minor', direction='out')\n",
    "#ax1.xaxis.set_tick_params(which='minor', bottom=False)\n",
    "ax1.title.set_text('Validation Data Accuracies')\n",
    "\n",
    "ax2 = plt.subplot(2, 1, 2)\n",
    "plt.bar(np.arange(1,num_models+1), [i*100 for i in val_accs_avg_sort.values()],\n",
    "        color=sorted_colors.values())\n",
    "plt.ylabel(\"Average Accuracy [%]\")\n",
    "plt.xlabel(\"Model Name\")\n",
    "plt.ylim(85,100)\n",
    "#plt.xlim(1,num_epochs)\n",
    "# Shrink current axis by 20%\n",
    "box = ax2.get_position()\n",
    "ax2.set_position([box.x0, box.y0, box.width * 0.8, box.height])\n",
    "\n",
    "# Put a legend to the right of the current axis\n",
    "# Set number of ticks for x-axis\n",
    "ax2.set_xticks(np.arange(1,10))\n",
    "# Set ticks labels for x-axis\n",
    "ax2.set_xticklabels(sorted_colors.keys(), rotation='vertical')\n",
    "ax2.yaxis.set_ticks_position('both')\n"
   ]
  },
  {
   "cell_type": "code",
   "execution_count": null,
   "metadata": {},
   "outputs": [],
   "source": []
  }
 ],
 "metadata": {
  "kernelspec": {
   "display_name": "Python 3",
   "language": "python",
   "name": "python3"
  },
  "language_info": {
   "codemirror_mode": {
    "name": "ipython",
    "version": 3
   },
   "file_extension": ".py",
   "mimetype": "text/x-python",
   "name": "python",
   "nbconvert_exporter": "python",
   "pygments_lexer": "ipython3",
   "version": "3.7.10"
  }
 },
 "nbformat": 4,
 "nbformat_minor": 5
}
