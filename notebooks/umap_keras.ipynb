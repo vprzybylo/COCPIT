{
 "cells": [
  {
   "cell_type": "code",
   "execution_count": null,
   "metadata": {},
   "outputs": [],
   "source": [
    "%matplotlib inline\n",
    "import pickle\n",
    "import matplotlib.pyplot as plt\n",
    "import numpy as np\n",
    "import time\n",
    "import umap \n",
    "from tensorflow.python.client import device_lib\n",
    "#print(device_lib.list_local_devices())\n",
    "import keras\n",
    "from keras import backend as K\n",
    "from keras.models import Sequential\n",
    "from keras.layers.core import Dense, Activation\n",
    "from keras.utils import np_utils\n",
    "from keras.layers import Convolution3D, Convolution2D, MaxPooling2D\n",
    "from keras.layers.normalization import BatchNormalization\n",
    "\n",
    "from keras.models import Sequential\n",
    "from keras.layers import Dense, Activation\n",
    "from keras.layers import Dense, Dropout, Flatten\n"
   ]
  },
  {
   "cell_type": "code",
   "execution_count": null,
   "metadata": {},
   "outputs": [],
   "source": [
    "def load_data():\n",
    "    \n",
    "    train_imgs_np = np.array(np.load('train_imgs'))\n",
    "    train_labs_np = np.array(np.load('train_labs'))\n",
    "    test_imgs_np = np.array(np.load('test_imgs'))\n",
    "    test_labs_np = np.array(np.load('test_labs'))\n",
    "    \n",
    "    print('done loading arrays')\n",
    "    \n",
    "    return (train_imgs_np, train_labs_np, test_imgs_np, test_labs_np)\n",
    "\n",
    "%time train_imgs_np, train_labs_np, test_imgs_np, test_labs_np = load_data()\n"
   ]
  },
  {
   "cell_type": "code",
   "execution_count": null,
   "metadata": {},
   "outputs": [],
   "source": [
    "print(np.shape(train_imgs_np),np.shape(test_imgs_np))\n",
    "print('total images: ', np.shape(train_imgs_np)[0]+np.shape(test_imgs_np)[0])"
   ]
  },
  {
   "cell_type": "code",
   "execution_count": null,
   "metadata": {},
   "outputs": [],
   "source": [
    "file = open('trans', 'rb')\n",
    "%time trans = pickle.load(file)"
   ]
  },
  {
   "cell_type": "code",
   "execution_count": null,
   "metadata": {},
   "outputs": [],
   "source": [
    "%time embedding = trans.transform(train_imgs_np) \n",
    "#%time trans_test = trans.transform(test_imgs_np) "
   ]
  },
  {
   "cell_type": "code",
   "execution_count": null,
   "metadata": {},
   "outputs": [],
   "source": [
    "batch_size = 64\n",
    "nz, nx, ny = 3, 224, 224\n",
    "input_shape = (nx, ny, nz)\n",
    "#train_imgs = train_imgs_np.reshape((8887,nx,ny,nz))\n",
    "#test_imgs = test_imgs_np.reshape((2221,nx,ny,nz))\n",
    "\n",
    "print(np.shape(train_imgs),np.shape(train_imgs_np))\n",
    "#print(np.shape(embedding))\n",
    "num_classes = 3\n",
    "\n",
    "model = Sequential()\n",
    "\n",
    "model.add(Convolution2D(32, (3, 3), input_shape=input_shape))\n",
    "model.add(Activation('relu'))\n",
    "model.add(MaxPooling2D(pool_size=(2, 2)))\n",
    "model.add(Dropout(0.3))\n",
    "\n",
    "model.add(Convolution2D(32, (3, 3)))\n",
    "model.add(Activation('relu'))\n",
    "model.add(MaxPooling2D(pool_size=(2, 2)))\n",
    "model.add(Dropout(0.5))\n",
    "\n",
    "model.add(Convolution2D(64, (3, 3)))\n",
    "model.add(Activation('relu'))\n",
    "model.add(MaxPooling2D(pool_size=(2, 2)))\n",
    "model.add(Dropout(0.7))\n",
    "\n",
    "model.add(Flatten())  # this converts our 3D feature maps to 1D feature vectors\n",
    "model.add(Dense(64))\n",
    "model.add(Activation('relu'))\n",
    "model.add(Dropout(0.5))\n",
    "model.add(Dense(num_classes))\n",
    "model.add(Activation('softmax'))\n",
    "\n",
    "#adam uses a learning rate of 0.001\n",
    "learning_rate = 0.001\n",
    "optimizer = keras.optimizers.Adam()\n",
    "adagrad = keras.optimizers.Adagrad(lr=learning_rate)\n",
    "\n",
    "model.compile(loss=keras.losses.sparse_categorical_crossentropy,\n",
    "    optimizer = optimizer, metrics=['accuracy'])\n",
    "#metrics=how many images are correctly classified\n",
    "\n",
    "model.summary()\n",
    "\n"
   ]
  },
  {
   "cell_type": "code",
   "execution_count": null,
   "metadata": {},
   "outputs": [],
   "source": [
    "# Define the neural network model (Using a similar topology to parametric t-SNE)\n",
    "model = Sequential()  #more detailed above\n",
    "model.add(Dense(500, activation='relu', input_shape=(train_imgs_np.shape[1],)))\n",
    "model.add(Dense(500, activation='relu'))\n",
    "model.add(Dense(2000, activation='relu'))\n",
    "model.add(Dense(2))\n",
    "model.compile(loss='mean_squared_error', optimizer='Adam')\n"
   ]
  },
  {
   "cell_type": "code",
   "execution_count": null,
   "metadata": {},
   "outputs": [],
   "source": [
    "# Fit the training samples\n",
    "#print(type(train_imgs),type(embedding),type(test_imgs))\n",
    "print(np.shape(train_imgs_np),np.shape(train_labs_np))\n",
    "%time model.fit(train_imgs, train_labs_np, batch_size=32, shuffle=False, epochs=100)\n",
    "#test_loss, test_acc = model.evaluate(test_imgs, test_labs_np)\n"
   ]
  },
  {
   "cell_type": "code",
   "execution_count": null,
   "metadata": {},
   "outputs": [],
   "source": [
    "filename = 'finalized_model.sav'\n",
    "pickle.dump(model, open(filename, 'wb'))"
   ]
  },
  {
   "cell_type": "code",
   "execution_count": null,
   "metadata": {},
   "outputs": [],
   "source": [
    "# load the model from disk\n",
    "loaded_model = pickle.load(open(filename, 'rb'))"
   ]
  },
  {
   "cell_type": "code",
   "execution_count": null,
   "metadata": {},
   "outputs": [],
   "source": [
    "# Predict the embedding for the test samples\n",
    "%time predictions = loaded_model.predict_classes(test_imgs) #predict_proba #predict_classes\n",
    "print(np.shape(predictions), predictions[0])"
   ]
  },
  {
   "cell_type": "code",
   "execution_count": null,
   "metadata": {},
   "outputs": [],
   "source": [
    "for i in range(25):\n",
    "    plt.subplot(5,5,i+1)\n",
    "    plt.xticks([])\n",
    "    plt.yticks([])\n",
    "    plt.grid(False)\n",
    "    plt.imshow(test_imgs[i])\n",
    "    plt.xlabel(class_names[test_labs_np[i]])\n"
   ]
  },
  {
   "cell_type": "code",
   "execution_count": null,
   "metadata": {},
   "outputs": [],
   "source": [
    "def plot_image(i, predictions_array, true_label, img):\n",
    "    class_names = ['aggs', 'columns','junk']\n",
    "    predictions_array, true_label, img = predictions_array[i], true_label[i], img[i]\n",
    "    plt.grid(False)\n",
    "    plt.xticks([])\n",
    "    plt.yticks([])\n",
    "\n",
    "    plt.imshow(img)\n",
    "\n",
    "    predicted_label = np.argmax(predictions_array)\n",
    "     \n",
    "    if predicted_label == true_label:\n",
    "        #/home/vprzybylo/agg_model/CPI_ML\n",
    "        #OR\n",
    "        #/home/ksulia/Machine_Learning/CPI_ML/\n",
    "        \n",
    "        #SAVE img[i] to FILE\n",
    "        #imsave('gradient.png', x)\n",
    "        \n",
    "        color = 'blue'\n",
    "    else:\n",
    "        color = 'red'\n",
    "\n",
    "    plt.xlabel(\"{} {:2.0f}% ({})\".format(class_names[predicted_label],\n",
    "                                100*np.max(predictions_array),\n",
    "                                class_names[true_label]),\n",
    "                                color=color)"
   ]
  },
  {
   "cell_type": "code",
   "execution_count": null,
   "metadata": {},
   "outputs": [],
   "source": [
    "def plot_value_array(i, predictions_array, true_label):\n",
    "    predictions_array, true_label = predictions_array[i], true_label[i]\n",
    "    plt.grid(False)\n",
    "    plt.xticks([])\n",
    "    plt.yticks([])\n",
    "    \n",
    "    thisplot = plt.bar(range(3), predictions_array, color=\"#777777\")\n",
    "    plt.ylim([0, 1])\n",
    "    predicted_label = np.argmax(predictions_array)\n",
    "\n",
    "    thisplot[predicted_label].set_color('red')\n",
    "    thisplot[true_label].set_color('blue')"
   ]
  },
  {
   "cell_type": "code",
   "execution_count": null,
   "metadata": {},
   "outputs": [],
   "source": [
    "print(np.shape(train_imgs_np))\n",
    "class_names = ['aggs', 'columns','junk']\n",
    "\n",
    "plt.figure(figsize=(5,5))\n",
    "plt.imshow(train_imgs[20])\n",
    "'''\n",
    "for i in range(25):\n",
    "    plt.subplot(5,5,i+1)\n",
    "    plt.xticks([])\n",
    "    plt.yticks([])\n",
    "    plt.grid(False)\n",
    "    plt.imshow(train_imgs[i])\n",
    "    plt.xlabel(class_names[train_labs_np[i]])\n",
    "'''\n",
    "plt.show()"
   ]
  },
  {
   "cell_type": "code",
   "execution_count": null,
   "metadata": {},
   "outputs": [],
   "source": [
    "# Plot the first X test images, their predicted labels, and the true labels.\n",
    "# Color correct predictions in blue and incorrect predictions in red.\n",
    "num_rows = 6\n",
    "num_cols = 6\n",
    "num_images = num_rows*num_cols\n",
    "\n",
    "plt.figure(figsize=(2*2*num_cols, 2*num_rows))\n",
    "for i in range(num_images):\n",
    "    plt.subplot(num_rows, 2*num_cols, 2*i+1)\n",
    "    plot_image(i, predictions, test_labs_np, test_imgs)\n",
    "    plt.subplot(num_rows, 2*num_cols, 2*i+2)\n",
    "    plot_value_array(i, predictions, test_labs_np)\n",
    "plt.show()"
   ]
  },
  {
   "cell_type": "code",
   "execution_count": null,
   "metadata": {},
   "outputs": [],
   "source": [
    "fig = plt.figure(figsize=(8, 16))\n",
    "plt.subplot(2, 1, 1)\n",
    "plt.scatter(embedding[:,0], embedding[:,1], marker='o', s=1, edgecolor='', c=train_labs_np)\n",
    "plt.title(\"UMAP embedding - train samples\")\n",
    "plt.subplot(2, 1, 2)\n",
    "plt.scatter(embedding_test[:,0], embedding_test[:,1], marker='o', s=1, edgecolor='', c=test_labs_np)\n",
    "plt.title(\"UMAP embedding through neural network - test samples\")\n",
    "fig.tight_layout()"
   ]
  },
  {
   "cell_type": "code",
   "execution_count": null,
   "metadata": {},
   "outputs": [],
   "source": [
    "from sklearn.neighbors import KNeighborsClassifier\n",
    "\n",
    "mdl = KNeighborsClassifier(n_neighbors=15, n_jobs=-1)\n",
    "%time mdl.fit(embedding, train_labs_np)\n",
    "%time y_pred = mdl.predict(embedding_test)\n"
   ]
  },
  {
   "cell_type": "code",
   "execution_count": null,
   "metadata": {},
   "outputs": [],
   "source": [
    "from sklearn.metrics import accuracy_score\n",
    "\n",
    "print(\"Accuracy: {}\".format(accuracy_score(test_labs_np, y_pred)))"
   ]
  },
  {
   "cell_type": "code",
   "execution_count": null,
   "metadata": {},
   "outputs": [],
   "source": [
    "\n"
   ]
  }
 ],
 "metadata": {
  "kernelspec": {
   "display_name": "Python 3",
   "language": "python",
   "name": "python3"
  },
  "language_info": {
   "codemirror_mode": {
    "name": "ipython",
    "version": 3
   },
   "file_extension": ".py",
   "mimetype": "text/x-python",
   "name": "python",
   "nbconvert_exporter": "python",
   "pygments_lexer": "ipython3",
   "version": "3.7.7"
  }
 },
 "nbformat": 4,
 "nbformat_minor": 4
}
